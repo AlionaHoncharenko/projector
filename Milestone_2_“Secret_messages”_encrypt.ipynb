{
  "nbformat": 4,
  "nbformat_minor": 0,
  "metadata": {
    "colab": {
      "provenance": [],
      "authorship_tag": "ABX9TyPlJA1De5zoc9ep3HUgcY2q",
      "include_colab_link": true
    },
    "kernelspec": {
      "name": "python3",
      "display_name": "Python 3"
    },
    "language_info": {
      "name": "python"
    }
  },
  "cells": [
    {
      "cell_type": "markdown",
      "metadata": {
        "id": "view-in-github",
        "colab_type": "text"
      },
      "source": [
        "<a href=\"https://colab.research.google.com/github/AlionaHoncharenko/Honcharenko.Assignments/blob/main/Milestone_2_%E2%80%9CSecret_messages%E2%80%9D_encrypt.ipynb\" target=\"_parent\"><img src=\"https://colab.research.google.com/assets/colab-badge.svg\" alt=\"Open In Colab\"/></a>"
      ]
    },
    {
      "cell_type": "code",
      "execution_count": 3,
      "metadata": {
        "colab": {
          "base_uri": "https://localhost:8080/"
        },
        "id": "CRSGWMegCRle",
        "outputId": "e9ef73b2-8dda-4832-e67c-b917be9977d2"
      },
      "outputs": [
        {
          "output_type": "stream",
          "name": "stdout",
          "text": [
            "Enter key: 2\n",
            "Enter message: Hello world\n",
            "Result: Jgnnq yqtnf\n"
          ]
        }
      ],
      "source": [
        "def encrypt(message, key):\n",
        "    encrypted_message = \"\"\n",
        "    for letter in message:\n",
        "        if letter.isalpha():\n",
        "            shift = 65 if letter.isupper() else 97\n",
        "            encrypted_letter = chr((ord(letter) - shift + key) % 26 + shift)\n",
        "            encrypted_message += encrypted_letter\n",
        "        else:\n",
        "            encrypted_message += letter\n",
        "    return encrypted_message\n",
        "\n",
        "if __name__ == \"__main__\":\n",
        "    key = int(input(\"Enter key: \"))\n",
        "    message = input(\"Enter message: \")\n",
        "    result = encrypt(message, key)\n",
        "    print(\"Result:\", result)\n",
        ""
      ]
    }
  ]
}