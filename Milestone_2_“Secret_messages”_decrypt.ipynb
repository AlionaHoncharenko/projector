{
  "nbformat": 4,
  "nbformat_minor": 0,
  "metadata": {
    "colab": {
      "provenance": [],
      "authorship_tag": "ABX9TyNMFgXFbdRetqr7g/vWVEl7",
      "include_colab_link": true
    },
    "kernelspec": {
      "name": "python3",
      "display_name": "Python 3"
    },
    "language_info": {
      "name": "python"
    }
  },
  "cells": [
    {
      "cell_type": "markdown",
      "metadata": {
        "id": "view-in-github",
        "colab_type": "text"
      },
      "source": [
        "<a href=\"https://colab.research.google.com/github/AlionaHoncharenko/Honcharenko.Assignments/blob/main/Milestone_2_%E2%80%9CSecret_messages%E2%80%9D_decrypt.ipynb\" target=\"_parent\"><img src=\"https://colab.research.google.com/assets/colab-badge.svg\" alt=\"Open In Colab\"/></a>"
      ]
    },
    {
      "cell_type": "code",
      "source": [
        "def decrypt(message, key):\n",
        "    decrypted_message = \"\"\n",
        "    for letter in message:\n",
        "        if letter.isalpha():\n",
        "            shift = 65 if letter.isupper() else 97\n",
        "            decrypted_letter = chr((ord(letter) - shift - key) % 26 + shift)\n",
        "            decrypted_message += decrypted_letter\n",
        "        else:\n",
        "            decrypted_message += letter\n",
        "    return decrypted_message\n",
        "\n",
        "if __name__ == \"__main__\":\n",
        "    key = int(input(\"Enter key: \"))\n",
        "    message = input(\"Enter message: \")\n",
        "    result = decrypt(message, key)\n",
        "    print(\"Result:\", result)"
      ],
      "metadata": {
        "colab": {
          "base_uri": "https://localhost:8080/"
        },
        "id": "Cti-yT0HKlNy",
        "outputId": "9fba7382-e45c-4d1a-c2dc-9f1d4a212a63"
      },
      "execution_count": 5,
      "outputs": [
        {
          "output_type": "stream",
          "name": "stdout",
          "text": [
            "Enter key: 2\n",
            "Enter message: Jgnnq yqtnf\n",
            "Result: Hello world\n"
          ]
        }
      ]
    }
  ]
}