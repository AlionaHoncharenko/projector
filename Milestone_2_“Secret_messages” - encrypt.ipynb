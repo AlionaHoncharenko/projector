{
  "nbformat": 4,
  "nbformat_minor": 0,
  "metadata": {
    "colab": {
      "provenance": [],
      "authorship_tag": "ABX9TyMwiLq6363KUsU7akrXhG72",
      "include_colab_link": true
    },
    "kernelspec": {
      "name": "python3",
      "display_name": "Python 3"
    },
    "language_info": {
      "name": "python"
    }
  },
  "cells": [
    {
      "cell_type": "markdown",
      "metadata": {
        "id": "view-in-github",
        "colab_type": "text"
      },
      "source": [
        "<a href=\"https://colab.research.google.com/github/AlionaHoncharenko/Honcharenko.Assignments/blob/main/Milestone_2_%E2%80%9CSecret_messages%E2%80%9D%20-%20encrypt.ipynb\" target=\"_parent\"><img src=\"https://colab.research.google.com/assets/colab-badge.svg\" alt=\"Open In Colab\"/></a>"
      ]
    },
    {
      "cell_type": "code",
      "execution_count": 8,
      "metadata": {
        "colab": {
          "base_uri": "https://localhost:8080/"
        },
        "id": "WwYuPqps69hc",
        "outputId": "901ca984-b78b-4347-ffa3-4ed01cd0a781"
      },
      "outputs": [
        {
          "output_type": "stream",
          "name": "stdout",
          "text": [
            "Enter key: 2\n",
            "Enter message: Hello world\n",
            "\n",
            "Result: Jgnnq yqtnf\n"
          ]
        }
      ],
      "source": [
        "#Enter key: 1\n",
        "#Enter message: The quick brown fox jumps over the lazy dog.\n",
        "\n",
        "#Result: Uif rvjdl cspxo gpy kvnqt pwfs uif mbaz eph.\n",
        "\n",
        "def encrypted_text(text, key):\n",
        "    result = []\n",
        "    for char in text:\n",
        "        if char.isalpha():\n",
        "            shift = 65 if char.isupper() else 97\n",
        "            result.append(chr((ord(char) - shift + key) % 26 + shift))\n",
        "        else:\n",
        "            result.append(char)\n",
        "    return ''.join(result)\n",
        "\n",
        "key = int(input(\"Enter key: \"))\n",
        "message = input(\"Enter message: \")\n",
        "encrypted_message = encrypted_text(message, key)\n",
        "print(\"\\nResult:\", encrypted_message)\n",
        "\n"
      ]
    }
  ]
}